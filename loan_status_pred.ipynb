{
 "cells": [
  {
   "cell_type": "markdown",
   "id": "86a03279",
   "metadata": {},
   "source": [
    "# 💸 Prêt bancaire"
   ]
  },
  {
   "cell_type": "markdown",
   "id": "7db4dca7",
   "metadata": {},
   "source": [
    "Vous devez créer un outil à destination des banquiers qui doivent gérer l'attribution des prêts. Evidemment, le Crédit Simplonien s'attend à un outil extrêment efficace avec un forte précision et un risque d'erreur proche de 0.\n",
    "\n",
    "Le banquier n'est pas un expert Data, mais il devra être capable de justifier les résultats de l'outil que vous lui mettrez à disposition grâce notamment au document synthétique explicatif."
   ]
  },
  {
   "cell_type": "markdown",
   "id": "a24c442e",
   "metadata": {},
   "source": [
    "**Les données :**\n",
    "- Loan_ID: Unique Loan ID\n",
    "- Gender: Male/ Female\n",
    "- Married: Applicant married (Y/N)\n",
    "- Dependents: Number of dependents\n",
    "- Education: Applicant Education (Graduate/ Under Graduate)\n",
    "- Self_Employed: Self employed (Y/N)\n",
    "- ApplicantIncome: Applicant income\n",
    "- CoapplicantIncome: Coapplicant income\n",
    "- LoanAmount: Loan amount in thousands\n",
    "- Loan_Amount_Term: Term of loan in months\n",
    "- Credit_History: credit history meets guidelines\n",
    "- Property_Area: Urban/ Semi Urban/ Rural\n",
    "- Loan_Status : Loan approved (Y/N)"
   ]
  },
  {
   "cell_type": "markdown",
   "id": "6029656d",
   "metadata": {},
   "source": [
    "# 📜 Sommaire"
   ]
  },
  {
   "cell_type": "markdown",
   "id": "060781cb",
   "metadata": {},
   "source": [
    "- EDA\n",
    "- Preprocessing\n",
    "- Modèle"
   ]
  },
  {
   "cell_type": "markdown",
   "id": "ef115498",
   "metadata": {},
   "source": [
    "# 📊 EDA"
   ]
  },
  {
   "cell_type": "code",
   "execution_count": 315,
   "id": "168b17fc",
   "metadata": {},
   "outputs": [],
   "source": [
    "import numpy as np\n",
    "import pandas as pd\n",
    "import matplotlib.pyplot as plt\n",
    "import seaborn as sns\n",
    "\n",
    "# preprocessing\n",
    "from sklearn import preprocessing\n",
    "from sklearn.preprocessing import RobustScaler\n",
    "from sklearn.model_selection import train_test_split\n",
    "from imblearn.combine import SMOTEENN\n",
    "\n",
    "# metrics\n",
    "from sklearn.metrics import classification_report, confusion_matrix\n",
    "from sklearn.metrics import accuracy_score\n",
    "from sklearn import datasets, linear_model, metrics\n",
    "\n",
    "# models\n",
    "from tpot import TPOTClassifier\n",
    "\n",
    "\n",
    "import warnings\n",
    "warnings.filterwarnings('ignore')"
   ]
  },
  {
   "cell_type": "code",
   "execution_count": 249,
   "id": "bbcaa8cc",
   "metadata": {},
   "outputs": [],
   "source": [
    "# Display all columns in the dataframe\n",
    "pd.set_option('display.max_columns', None)"
   ]
  },
  {
   "cell_type": "code",
   "execution_count": 317,
   "id": "a0f166c0",
   "metadata": {},
   "outputs": [
    {
     "data": {
      "text/html": [
       "<div>\n",
       "<style scoped>\n",
       "    .dataframe tbody tr th:only-of-type {\n",
       "        vertical-align: middle;\n",
       "    }\n",
       "\n",
       "    .dataframe tbody tr th {\n",
       "        vertical-align: top;\n",
       "    }\n",
       "\n",
       "    .dataframe thead th {\n",
       "        text-align: right;\n",
       "    }\n",
       "</style>\n",
       "<table border=\"1\" class=\"dataframe\">\n",
       "  <thead>\n",
       "    <tr style=\"text-align: right;\">\n",
       "      <th></th>\n",
       "      <th>Loan_ID</th>\n",
       "      <th>Gender</th>\n",
       "      <th>Married</th>\n",
       "      <th>Dependents</th>\n",
       "      <th>Education</th>\n",
       "      <th>Self_Employed</th>\n",
       "      <th>ApplicantIncome</th>\n",
       "      <th>CoapplicantIncome</th>\n",
       "      <th>LoanAmount</th>\n",
       "      <th>Loan_Amount_Term</th>\n",
       "      <th>Credit_History</th>\n",
       "      <th>Property_Area</th>\n",
       "      <th>Loan_Status</th>\n",
       "    </tr>\n",
       "  </thead>\n",
       "  <tbody>\n",
       "    <tr>\n",
       "      <th>0</th>\n",
       "      <td>LP001002</td>\n",
       "      <td>Male</td>\n",
       "      <td>No</td>\n",
       "      <td>0</td>\n",
       "      <td>Graduate</td>\n",
       "      <td>No</td>\n",
       "      <td>5849</td>\n",
       "      <td>0.0</td>\n",
       "      <td>NaN</td>\n",
       "      <td>360.0</td>\n",
       "      <td>1.0</td>\n",
       "      <td>Urban</td>\n",
       "      <td>Y</td>\n",
       "    </tr>\n",
       "    <tr>\n",
       "      <th>1</th>\n",
       "      <td>LP001003</td>\n",
       "      <td>Male</td>\n",
       "      <td>Yes</td>\n",
       "      <td>1</td>\n",
       "      <td>Graduate</td>\n",
       "      <td>No</td>\n",
       "      <td>4583</td>\n",
       "      <td>1508.0</td>\n",
       "      <td>128.0</td>\n",
       "      <td>360.0</td>\n",
       "      <td>1.0</td>\n",
       "      <td>Rural</td>\n",
       "      <td>N</td>\n",
       "    </tr>\n",
       "    <tr>\n",
       "      <th>2</th>\n",
       "      <td>LP001005</td>\n",
       "      <td>Male</td>\n",
       "      <td>Yes</td>\n",
       "      <td>0</td>\n",
       "      <td>Graduate</td>\n",
       "      <td>Yes</td>\n",
       "      <td>3000</td>\n",
       "      <td>0.0</td>\n",
       "      <td>66.0</td>\n",
       "      <td>360.0</td>\n",
       "      <td>1.0</td>\n",
       "      <td>Urban</td>\n",
       "      <td>Y</td>\n",
       "    </tr>\n",
       "    <tr>\n",
       "      <th>3</th>\n",
       "      <td>LP001006</td>\n",
       "      <td>Male</td>\n",
       "      <td>Yes</td>\n",
       "      <td>0</td>\n",
       "      <td>Not Graduate</td>\n",
       "      <td>No</td>\n",
       "      <td>2583</td>\n",
       "      <td>2358.0</td>\n",
       "      <td>120.0</td>\n",
       "      <td>360.0</td>\n",
       "      <td>1.0</td>\n",
       "      <td>Urban</td>\n",
       "      <td>Y</td>\n",
       "    </tr>\n",
       "    <tr>\n",
       "      <th>4</th>\n",
       "      <td>LP001008</td>\n",
       "      <td>Male</td>\n",
       "      <td>No</td>\n",
       "      <td>0</td>\n",
       "      <td>Graduate</td>\n",
       "      <td>No</td>\n",
       "      <td>6000</td>\n",
       "      <td>0.0</td>\n",
       "      <td>141.0</td>\n",
       "      <td>360.0</td>\n",
       "      <td>1.0</td>\n",
       "      <td>Urban</td>\n",
       "      <td>Y</td>\n",
       "    </tr>\n",
       "  </tbody>\n",
       "</table>\n",
       "</div>"
      ],
      "text/plain": [
       "    Loan_ID Gender Married Dependents     Education Self_Employed  \\\n",
       "0  LP001002   Male      No          0      Graduate            No   \n",
       "1  LP001003   Male     Yes          1      Graduate            No   \n",
       "2  LP001005   Male     Yes          0      Graduate           Yes   \n",
       "3  LP001006   Male     Yes          0  Not Graduate            No   \n",
       "4  LP001008   Male      No          0      Graduate            No   \n",
       "\n",
       "   ApplicantIncome  CoapplicantIncome  LoanAmount  Loan_Amount_Term  \\\n",
       "0             5849                0.0         NaN             360.0   \n",
       "1             4583             1508.0       128.0             360.0   \n",
       "2             3000                0.0        66.0             360.0   \n",
       "3             2583             2358.0       120.0             360.0   \n",
       "4             6000                0.0       141.0             360.0   \n",
       "\n",
       "   Credit_History Property_Area Loan_Status  \n",
       "0             1.0         Urban           Y  \n",
       "1             1.0         Rural           N  \n",
       "2             1.0         Urban           Y  \n",
       "3             1.0         Urban           Y  \n",
       "4             1.0         Urban           Y  "
      ]
     },
     "execution_count": 317,
     "metadata": {},
     "output_type": "execute_result"
    }
   ],
   "source": [
    "# load data\n",
    "train = pd.read_csv('data/train.txt')\n",
    "test = pd.read_csv('data/test.txt')\n",
    "\n",
    "# view dataframe\n",
    "train.head()"
   ]
  },
  {
   "cell_type": "code",
   "execution_count": 259,
   "id": "0069ad7f",
   "metadata": {},
   "outputs": [],
   "source": [
    "def all_info(df):\n",
    "    print(\"-------------Top-5--------------\")\n",
    "    print(df.head())\n",
    "    print()\n",
    "    print(\"-----------Information-----------\")\n",
    "    print(df.info())\n",
    "    print()\n",
    "    print(\"-----------Data Types-----------\")\n",
    "    print(df.dtypes)\n",
    "    print()\n",
    "    print(\"----------Missing value-----------\")\n",
    "    print(df.isnull().sum().sum())\n",
    "    print()\n",
    "    print(\"----------Null value-----------\")\n",
    "    print(df.isna().sum())\n",
    "    print()\n",
    "    print(\"----------Shape of Data----------\")\n",
    "    print(df.shape)\n",
    "    print(\"----------Duplicate----------\")\n",
    "    print(df.duplicated().sum())"
   ]
  },
  {
   "cell_type": "code",
   "execution_count": 260,
   "id": "25102866",
   "metadata": {
    "scrolled": true
   },
   "outputs": [
    {
     "name": "stdout",
     "output_type": "stream",
     "text": [
      "-------------Top-5--------------\n",
      "    Loan_ID Gender Married Dependents     Education Self_Employed  \\\n",
      "0  LP001002   Male      No          0      Graduate            No   \n",
      "1  LP001003   Male     Yes          1      Graduate            No   \n",
      "2  LP001005   Male     Yes          0      Graduate           Yes   \n",
      "3  LP001006   Male     Yes          0  Not Graduate            No   \n",
      "4  LP001008   Male      No          0      Graduate            No   \n",
      "\n",
      "   ApplicantIncome  CoapplicantIncome  LoanAmount  Loan_Amount_Term  \\\n",
      "0             5849                0.0         NaN             360.0   \n",
      "1             4583             1508.0       128.0             360.0   \n",
      "2             3000                0.0        66.0             360.0   \n",
      "3             2583             2358.0       120.0             360.0   \n",
      "4             6000                0.0       141.0             360.0   \n",
      "\n",
      "   Credit_History Property_Area Loan_Status  \n",
      "0             1.0         Urban           Y  \n",
      "1             1.0         Rural           N  \n",
      "2             1.0         Urban           Y  \n",
      "3             1.0         Urban           Y  \n",
      "4             1.0         Urban           Y  \n",
      "\n",
      "-----------Information-----------\n",
      "<class 'pandas.core.frame.DataFrame'>\n",
      "RangeIndex: 614 entries, 0 to 613\n",
      "Data columns (total 13 columns):\n",
      " #   Column             Non-Null Count  Dtype  \n",
      "---  ------             --------------  -----  \n",
      " 0   Loan_ID            614 non-null    object \n",
      " 1   Gender             601 non-null    object \n",
      " 2   Married            611 non-null    object \n",
      " 3   Dependents         599 non-null    object \n",
      " 4   Education          614 non-null    object \n",
      " 5   Self_Employed      582 non-null    object \n",
      " 6   ApplicantIncome    614 non-null    int64  \n",
      " 7   CoapplicantIncome  614 non-null    float64\n",
      " 8   LoanAmount         592 non-null    float64\n",
      " 9   Loan_Amount_Term   600 non-null    float64\n",
      " 10  Credit_History     564 non-null    float64\n",
      " 11  Property_Area      614 non-null    object \n",
      " 12  Loan_Status        614 non-null    object \n",
      "dtypes: float64(4), int64(1), object(8)\n",
      "memory usage: 62.5+ KB\n",
      "None\n",
      "\n",
      "-----------Data Types-----------\n",
      "Loan_ID               object\n",
      "Gender                object\n",
      "Married               object\n",
      "Dependents            object\n",
      "Education             object\n",
      "Self_Employed         object\n",
      "ApplicantIncome        int64\n",
      "CoapplicantIncome    float64\n",
      "LoanAmount           float64\n",
      "Loan_Amount_Term     float64\n",
      "Credit_History       float64\n",
      "Property_Area         object\n",
      "Loan_Status           object\n",
      "dtype: object\n",
      "\n",
      "----------Missing value-----------\n",
      "149\n",
      "\n",
      "----------Null value-----------\n",
      "Loan_ID               0\n",
      "Gender               13\n",
      "Married               3\n",
      "Dependents           15\n",
      "Education             0\n",
      "Self_Employed        32\n",
      "ApplicantIncome       0\n",
      "CoapplicantIncome     0\n",
      "LoanAmount           22\n",
      "Loan_Amount_Term     14\n",
      "Credit_History       50\n",
      "Property_Area         0\n",
      "Loan_Status           0\n",
      "dtype: int64\n",
      "\n",
      "----------Shape of Data----------\n",
      "(614, 13)\n",
      "----------Duplicate----------\n",
      "0\n"
     ]
    }
   ],
   "source": [
    "# view all infos of data\n",
    "all_info(train)"
   ]
  },
  {
   "cell_type": "code",
   "execution_count": 261,
   "id": "330a3ead",
   "metadata": {},
   "outputs": [
    {
     "name": "stdout",
     "output_type": "stream",
     "text": [
      "Numerical col: ['ApplicantIncome', 'CoapplicantIncome', 'LoanAmount', 'Loan_Amount_Term', 'Credit_History']\n",
      "Categorical col: ['Loan_ID', 'Gender', 'Married', 'Dependents', 'Education', 'Self_Employed', 'Property_Area', 'Loan_Status']\n"
     ]
    }
   ],
   "source": [
    "#get numerical and categorical col\n",
    "numeric_col=[col for col in train if train[col].dtype !=\"object\" ]\n",
    "categorical_col=[col for col in train if train[col].dtype==\"object\" ]\n",
    "print(\"Numerical col:\",numeric_col)\n",
    "print(\"Categorical col:\",categorical_col)"
   ]
  },
  {
   "cell_type": "code",
   "execution_count": 236,
   "id": "9c85e990",
   "metadata": {},
   "outputs": [
    {
     "data": {
      "image/png": "[encoded data removed]",
      "text/plain": [
       "<Figure size 864x864 with 15 Axes>"
      ]
     },
     "metadata": {
      "needs_background": "light"
     },
     "output_type": "display_data"
    }
   ],
   "source": [
    "#individual boxplot\n",
    "train.plot(kind='box', subplots=True, layout=(3, 5), figsize=(12, 12));"
   ]
  },
  {
   "cell_type": "code",
   "execution_count": 237,
   "id": "267a72e2",
   "metadata": {},
   "outputs": [
    {
     "data": {
      "text/plain": [
       "<AxesSubplot:xlabel='Loan_Status', ylabel='count'>"
      ]
     },
     "execution_count": 237,
     "metadata": {},
     "output_type": "execute_result"
    },
    {
     "data": {
      "image/png": "[encoded data removed]",
      "text/plain": [
       "<Figure size 432x288 with 1 Axes>"
      ]
     },
     "metadata": {
      "needs_background": "light"
     },
     "output_type": "display_data"
    }
   ],
   "source": [
    "# countplot\n",
    "sns.countplot(train['Loan_Status'], label='Count')"
   ]
  },
  {
   "cell_type": "code",
   "execution_count": 262,
   "id": "aeccf394",
   "metadata": {},
   "outputs": [
    {
     "data": {
      "text/plain": [
       "Y    422\n",
       "N    192\n",
       "Name: Loan_Status, dtype: int64"
      ]
     },
     "execution_count": 262,
     "metadata": {},
     "output_type": "execute_result"
    }
   ],
   "source": [
    "# value counts on Loan_Status\n",
    "train['Loan_Status'].value_counts()"
   ]
  },
  {
   "cell_type": "code",
   "execution_count": 269,
   "id": "774c83b9",
   "metadata": {},
   "outputs": [
    {
     "data": {
      "text/plain": [
       "Y    0.687296\n",
       "N    0.312704\n",
       "Name: Loan_Status, dtype: float64"
      ]
     },
     "execution_count": 269,
     "metadata": {},
     "output_type": "execute_result"
    }
   ],
   "source": [
    "# value counts on Loan_Status\n",
    "train['Loan_Status'].value_counts(normalize=True)"
   ]
  },
  {
   "cell_type": "code",
   "execution_count": 238,
   "id": "55a0f628",
   "metadata": {
    "scrolled": true
   },
   "outputs": [
    {
     "data": {
      "text/plain": [
       "<AxesSubplot:xlabel='Gender', ylabel='count'>"
      ]
     },
     "execution_count": 238,
     "metadata": {},
     "output_type": "execute_result"
    },
    {
     "data": {
      "image/png": "[encoded data removed]",
      "text/plain": [
       "<Figure size 432x288 with 1 Axes>"
      ]
     },
     "metadata": {
      "needs_background": "light"
     },
     "output_type": "display_data"
    }
   ],
   "source": [
    "# countplot\n",
    "sns.countplot(train['Gender'], label='Count')"
   ]
  },
  {
   "cell_type": "code",
   "execution_count": 270,
   "id": "f5242036",
   "metadata": {},
   "outputs": [
    {
     "data": {
      "text/plain": [
       "Male      0.813644\n",
       "Female    0.186356\n",
       "Name: Gender, dtype: float64"
      ]
     },
     "execution_count": 270,
     "metadata": {},
     "output_type": "execute_result"
    }
   ],
   "source": [
    "# value counts\n",
    "train['Gender'].value_counts(normalize=True)"
   ]
  },
  {
   "cell_type": "code",
   "execution_count": 239,
   "id": "cef67cf1",
   "metadata": {},
   "outputs": [
    {
     "data": {
      "text/plain": [
       "<AxesSubplot:xlabel='Married', ylabel='count'>"
      ]
     },
     "execution_count": 239,
     "metadata": {},
     "output_type": "execute_result"
    },
    {
     "data": {
      "image/png": "[encoded data removed]",
      "text/plain": [
       "<Figure size 432x288 with 1 Axes>"
      ]
     },
     "metadata": {
      "needs_background": "light"
     },
     "output_type": "display_data"
    }
   ],
   "source": [
    "# countplot\n",
    "sns.countplot(train['Married'], label='Count')"
   ]
  },
  {
   "cell_type": "code",
   "execution_count": 272,
   "id": "a45e4ddc",
   "metadata": {},
   "outputs": [
    {
     "data": {
      "text/plain": [
       "Yes    0.651391\n",
       "No     0.348609\n",
       "Name: Married, dtype: float64"
      ]
     },
     "execution_count": 272,
     "metadata": {},
     "output_type": "execute_result"
    }
   ],
   "source": [
    "# value counts\n",
    "train['Married'].value_counts(normalize=True)"
   ]
  },
  {
   "cell_type": "code",
   "execution_count": 243,
   "id": "9748c0d1",
   "metadata": {},
   "outputs": [
    {
     "data": {
      "text/plain": [
       "<AxesSubplot:xlabel='Dependents', ylabel='count'>"
      ]
     },
     "execution_count": 243,
     "metadata": {},
     "output_type": "execute_result"
    },
    {
     "data": {
      "image/png": "[encoded data removed]",
      "text/plain": [
       "<Figure size 432x288 with 1 Axes>"
      ]
     },
     "metadata": {
      "needs_background": "light"
     },
     "output_type": "display_data"
    }
   ],
   "source": [
    "# countplot\n",
    "sns.countplot(train['Dependents'], label='Count')"
   ]
  },
  {
   "cell_type": "code",
   "execution_count": 244,
   "id": "a73d1000",
   "metadata": {},
   "outputs": [
    {
     "data": {
      "text/plain": [
       "<AxesSubplot:xlabel='Education', ylabel='count'>"
      ]
     },
     "execution_count": 244,
     "metadata": {},
     "output_type": "execute_result"
    },
    {
     "data": {
      "image/png": "[encoded data removed]",
      "text/plain": [
       "<Figure size 432x288 with 1 Axes>"
      ]
     },
     "metadata": {
      "needs_background": "light"
     },
     "output_type": "display_data"
    }
   ],
   "source": [
    "# countplot\n",
    "sns.countplot(train['Education'], label='Count')"
   ]
  },
  {
   "cell_type": "code",
   "execution_count": 266,
   "id": "39a16374",
   "metadata": {},
   "outputs": [
    {
     "data": {
      "text/plain": [
       "Graduate        0.781759\n",
       "Not Graduate    0.218241\n",
       "Name: Education, dtype: float64"
      ]
     },
     "execution_count": 266,
     "metadata": {},
     "output_type": "execute_result"
    }
   ],
   "source": [
    "# value counts\n",
    "train['Education'].value_counts(normalize=True)"
   ]
  },
  {
   "cell_type": "code",
   "execution_count": 245,
   "id": "58871a6e",
   "metadata": {},
   "outputs": [
    {
     "data": {
      "text/plain": [
       "<AxesSubplot:xlabel='Self_Employed', ylabel='count'>"
      ]
     },
     "execution_count": 245,
     "metadata": {},
     "output_type": "execute_result"
    },
    {
     "data": {
      "image/png": "[encoded data removed]",
      "text/plain": [
       "<Figure size 432x288 with 1 Axes>"
      ]
     },
     "metadata": {
      "needs_background": "light"
     },
     "output_type": "display_data"
    }
   ],
   "source": [
    "# countplot\n",
    "sns.countplot(train['Self_Employed'], label='Count')"
   ]
  },
  {
   "cell_type": "code",
   "execution_count": 268,
   "id": "b0cc74c5",
   "metadata": {},
   "outputs": [
    {
     "data": {
      "text/plain": [
       "No     0.859107\n",
       "Yes    0.140893\n",
       "Name: Self_Employed, dtype: float64"
      ]
     },
     "execution_count": 268,
     "metadata": {},
     "output_type": "execute_result"
    }
   ],
   "source": [
    "# value counts\n",
    "train['Self_Employed'].value_counts(normalize=True)"
   ]
  },
  {
   "cell_type": "code",
   "execution_count": 246,
   "id": "adf6ea75",
   "metadata": {},
   "outputs": [
    {
     "data": {
      "text/plain": [
       "<AxesSubplot:xlabel='Property_Area', ylabel='count'>"
      ]
     },
     "execution_count": 246,
     "metadata": {},
     "output_type": "execute_result"
    },
    {
     "data": {
      "image/png": "[encoded data removed]",
      "text/plain": [
       "<Figure size 432x288 with 1 Axes>"
      ]
     },
     "metadata": {
      "needs_background": "light"
     },
     "output_type": "display_data"
    }
   ],
   "source": [
    "# countplot\n",
    "sns.countplot(train['Property_Area'], label='Count')"
   ]
  },
  {
   "cell_type": "code",
   "execution_count": 275,
   "id": "d737d7ae",
   "metadata": {},
   "outputs": [
    {
     "data": {
      "text/plain": [
       "<AxesSubplot:xlabel='Loan_Amount_Term', ylabel='count'>"
      ]
     },
     "execution_count": 275,
     "metadata": {},
     "output_type": "execute_result"
    },
    {
     "data": {
      "image/png": "[encoded data removed]",
      "text/plain": [
       "<Figure size 432x288 with 1 Axes>"
      ]
     },
     "metadata": {
      "needs_background": "light"
     },
     "output_type": "display_data"
    }
   ],
   "source": [
    "# countplot\n",
    "sns.countplot(train['Loan_Amount_Term'], label='Count')"
   ]
  },
  {
   "cell_type": "markdown",
   "id": "7b5f8696",
   "metadata": {},
   "source": [
    "**Les données**\n",
    "- Target : 'Loan_Status'\n",
    "- Colonne numérique : 'ApplicantIncome', 'CoapplicantIncome', 'LoanAmount', 'Loan_Amount_Term', 'Credit_History'\n",
    "- Colonne catégorique : 'Loan_ID', 'Gender', 'Married', 'Dependents', 'Education', 'Self_Employed', 'Property_Area', 'Loan_Status'\n",
    "- 149 Valeurs manquantes / NaN\n",
    "- Pas de valeurs dupliquées\n",
    "- Outliers présents dans les colonnes 'ApplicantIncome', 'CoapplicantIncome', 'LoanAmount', 'Loan_Amount_Term'\n",
    "\n",
    "**Observations**\n",
    "- Dataset (train) déséquilibré : la target 'Loan Status' contient 68% de YES et 31% de NO\n",
    "- Genre : 81% d'hommes / 19% de femmes\n",
    "- Personnes diplômées : 78%\n",
    "- Personnes à leur compte : 85%\n",
    "- Nombre de personnes à charge : majoritairement 0\n",
    "- Statut marital : 65% de personnes mariées\n",
    "- Durée de la montant du prêt en mois : majoritairement 360, soit 30 ans"
   ]
  },
  {
   "cell_type": "markdown",
   "id": "81239d75",
   "metadata": {},
   "source": [
    "# 🔧 Preprocessing"
   ]
  },
  {
   "cell_type": "markdown",
   "id": "6039c648",
   "metadata": {},
   "source": [
    "- Suppression de la colonne Loan_ID\n",
    "- Encoding des colonnes catégoricals\n",
    "- Remplacer les NaN par 0\n",
    "- Split les données / Définir X & y\n",
    "- Scaler avec RobustScaler en raison des outliers importants\n",
    "- Utiliser SMOTE ENN pour rééquilibrer les données"
   ]
  },
  {
   "cell_type": "code",
   "execution_count": 277,
   "id": "e42ef660",
   "metadata": {},
   "outputs": [],
   "source": [
    "# remove unused column\n",
    "train.drop(['Loan_ID'], axis=1, inplace=True)"
   ]
  },
  {
   "cell_type": "code",
   "execution_count": 278,
   "id": "973a0b15",
   "metadata": {},
   "outputs": [],
   "source": [
    "# encoding\n",
    "train['Loan_Status'] = train['Loan_Status'].apply(lambda x: 0 if x=='N' else 1)\n",
    "train['Self_Employed'] = train['Self_Employed'].apply(lambda x: 0 if x=='No' else 1)\n",
    "train['Married'] = train['Married'].apply(lambda x: 0 if x=='No' else 1)\n",
    "train['Gender'] = train['Gender'].apply(lambda x: 0 if x=='Female' else 1)\n",
    "train['Education'] = train['Education'].apply(lambda x: 0 if x=='Not Graduate' else 1)"
   ]
  },
  {
   "cell_type": "code",
   "execution_count": 279,
   "id": "f1976a1b",
   "metadata": {},
   "outputs": [
    {
     "data": {
      "text/html": [
       "<div>\n",
       "<style scoped>\n",
       "    .dataframe tbody tr th:only-of-type {\n",
       "        vertical-align: middle;\n",
       "    }\n",
       "\n",
       "    .dataframe tbody tr th {\n",
       "        vertical-align: top;\n",
       "    }\n",
       "\n",
       "    .dataframe thead th {\n",
       "        text-align: right;\n",
       "    }\n",
       "</style>\n",
       "<table border=\"1\" class=\"dataframe\">\n",
       "  <thead>\n",
       "    <tr style=\"text-align: right;\">\n",
       "      <th></th>\n",
       "      <th>Gender</th>\n",
       "      <th>Married</th>\n",
       "      <th>Dependents</th>\n",
       "      <th>Education</th>\n",
       "      <th>Self_Employed</th>\n",
       "      <th>ApplicantIncome</th>\n",
       "      <th>CoapplicantIncome</th>\n",
       "      <th>LoanAmount</th>\n",
       "      <th>Loan_Amount_Term</th>\n",
       "      <th>Credit_History</th>\n",
       "      <th>Property_Area</th>\n",
       "      <th>Loan_Status</th>\n",
       "    </tr>\n",
       "  </thead>\n",
       "  <tbody>\n",
       "    <tr>\n",
       "      <th>0</th>\n",
       "      <td>1</td>\n",
       "      <td>0</td>\n",
       "      <td>0</td>\n",
       "      <td>1</td>\n",
       "      <td>0</td>\n",
       "      <td>5849</td>\n",
       "      <td>0.0</td>\n",
       "      <td>NaN</td>\n",
       "      <td>360.0</td>\n",
       "      <td>1.0</td>\n",
       "      <td>Urban</td>\n",
       "      <td>1</td>\n",
       "    </tr>\n",
       "    <tr>\n",
       "      <th>1</th>\n",
       "      <td>1</td>\n",
       "      <td>1</td>\n",
       "      <td>1</td>\n",
       "      <td>1</td>\n",
       "      <td>0</td>\n",
       "      <td>4583</td>\n",
       "      <td>1508.0</td>\n",
       "      <td>128.0</td>\n",
       "      <td>360.0</td>\n",
       "      <td>1.0</td>\n",
       "      <td>Rural</td>\n",
       "      <td>0</td>\n",
       "    </tr>\n",
       "    <tr>\n",
       "      <th>2</th>\n",
       "      <td>1</td>\n",
       "      <td>1</td>\n",
       "      <td>0</td>\n",
       "      <td>1</td>\n",
       "      <td>1</td>\n",
       "      <td>3000</td>\n",
       "      <td>0.0</td>\n",
       "      <td>66.0</td>\n",
       "      <td>360.0</td>\n",
       "      <td>1.0</td>\n",
       "      <td>Urban</td>\n",
       "      <td>1</td>\n",
       "    </tr>\n",
       "    <tr>\n",
       "      <th>3</th>\n",
       "      <td>1</td>\n",
       "      <td>1</td>\n",
       "      <td>0</td>\n",
       "      <td>0</td>\n",
       "      <td>0</td>\n",
       "      <td>2583</td>\n",
       "      <td>2358.0</td>\n",
       "      <td>120.0</td>\n",
       "      <td>360.0</td>\n",
       "      <td>1.0</td>\n",
       "      <td>Urban</td>\n",
       "      <td>1</td>\n",
       "    </tr>\n",
       "    <tr>\n",
       "      <th>4</th>\n",
       "      <td>1</td>\n",
       "      <td>0</td>\n",
       "      <td>0</td>\n",
       "      <td>1</td>\n",
       "      <td>0</td>\n",
       "      <td>6000</td>\n",
       "      <td>0.0</td>\n",
       "      <td>141.0</td>\n",
       "      <td>360.0</td>\n",
       "      <td>1.0</td>\n",
       "      <td>Urban</td>\n",
       "      <td>1</td>\n",
       "    </tr>\n",
       "  </tbody>\n",
       "</table>\n",
       "</div>"
      ],
      "text/plain": [
       "   Gender  Married Dependents  Education  Self_Employed  ApplicantIncome  \\\n",
       "0       1        0          0          1              0             5849   \n",
       "1       1        1          1          1              0             4583   \n",
       "2       1        1          0          1              1             3000   \n",
       "3       1        1          0          0              0             2583   \n",
       "4       1        0          0          1              0             6000   \n",
       "\n",
       "   CoapplicantIncome  LoanAmount  Loan_Amount_Term  Credit_History  \\\n",
       "0                0.0         NaN             360.0             1.0   \n",
       "1             1508.0       128.0             360.0             1.0   \n",
       "2                0.0        66.0             360.0             1.0   \n",
       "3             2358.0       120.0             360.0             1.0   \n",
       "4                0.0       141.0             360.0             1.0   \n",
       "\n",
       "  Property_Area  Loan_Status  \n",
       "0         Urban            1  \n",
       "1         Rural            0  \n",
       "2         Urban            1  \n",
       "3         Urban            1  \n",
       "4         Urban            1  "
      ]
     },
     "execution_count": 279,
     "metadata": {},
     "output_type": "execute_result"
    }
   ],
   "source": [
    "train.head()"
   ]
  },
  {
   "cell_type": "code",
   "execution_count": 280,
   "id": "b3d42ea6",
   "metadata": {},
   "outputs": [],
   "source": [
    "# replace NaN by 0 on entire dataframe\n",
    "train = train.fillna(0)"
   ]
  },
  {
   "cell_type": "code",
   "execution_count": 282,
   "id": "c1918d3e",
   "metadata": {},
   "outputs": [],
   "source": [
    "# encoding / get dummies\n",
    "train = pd.get_dummies(data=train,columns=['Property_Area','Dependents'])"
   ]
  },
  {
   "cell_type": "code",
   "execution_count": 283,
   "id": "7d6f24dc",
   "metadata": {},
   "outputs": [
    {
     "data": {
      "text/html": [
       "<div>\n",
       "<style scoped>\n",
       "    .dataframe tbody tr th:only-of-type {\n",
       "        vertical-align: middle;\n",
       "    }\n",
       "\n",
       "    .dataframe tbody tr th {\n",
       "        vertical-align: top;\n",
       "    }\n",
       "\n",
       "    .dataframe thead th {\n",
       "        text-align: right;\n",
       "    }\n",
       "</style>\n",
       "<table border=\"1\" class=\"dataframe\">\n",
       "  <thead>\n",
       "    <tr style=\"text-align: right;\">\n",
       "      <th></th>\n",
       "      <th>Gender</th>\n",
       "      <th>Married</th>\n",
       "      <th>Education</th>\n",
       "      <th>Self_Employed</th>\n",
       "      <th>ApplicantIncome</th>\n",
       "      <th>CoapplicantIncome</th>\n",
       "      <th>LoanAmount</th>\n",
       "      <th>Loan_Amount_Term</th>\n",
       "      <th>Credit_History</th>\n",
       "      <th>Loan_Status</th>\n",
       "      <th>Property_Area_Rural</th>\n",
       "      <th>Property_Area_Semiurban</th>\n",
       "      <th>Property_Area_Urban</th>\n",
       "      <th>Dependents_0</th>\n",
       "      <th>Dependents_0</th>\n",
       "      <th>Dependents_1</th>\n",
       "      <th>Dependents_2</th>\n",
       "      <th>Dependents_3+</th>\n",
       "    </tr>\n",
       "  </thead>\n",
       "  <tbody>\n",
       "    <tr>\n",
       "      <th>0</th>\n",
       "      <td>1</td>\n",
       "      <td>0</td>\n",
       "      <td>1</td>\n",
       "      <td>0</td>\n",
       "      <td>5849</td>\n",
       "      <td>0.0</td>\n",
       "      <td>0.0</td>\n",
       "      <td>360.0</td>\n",
       "      <td>1.0</td>\n",
       "      <td>1</td>\n",
       "      <td>0</td>\n",
       "      <td>0</td>\n",
       "      <td>1</td>\n",
       "      <td>0</td>\n",
       "      <td>1</td>\n",
       "      <td>0</td>\n",
       "      <td>0</td>\n",
       "      <td>0</td>\n",
       "    </tr>\n",
       "    <tr>\n",
       "      <th>1</th>\n",
       "      <td>1</td>\n",
       "      <td>1</td>\n",
       "      <td>1</td>\n",
       "      <td>0</td>\n",
       "      <td>4583</td>\n",
       "      <td>1508.0</td>\n",
       "      <td>128.0</td>\n",
       "      <td>360.0</td>\n",
       "      <td>1.0</td>\n",
       "      <td>0</td>\n",
       "      <td>1</td>\n",
       "      <td>0</td>\n",
       "      <td>0</td>\n",
       "      <td>0</td>\n",
       "      <td>0</td>\n",
       "      <td>1</td>\n",
       "      <td>0</td>\n",
       "      <td>0</td>\n",
       "    </tr>\n",
       "    <tr>\n",
       "      <th>2</th>\n",
       "      <td>1</td>\n",
       "      <td>1</td>\n",
       "      <td>1</td>\n",
       "      <td>1</td>\n",
       "      <td>3000</td>\n",
       "      <td>0.0</td>\n",
       "      <td>66.0</td>\n",
       "      <td>360.0</td>\n",
       "      <td>1.0</td>\n",
       "      <td>1</td>\n",
       "      <td>0</td>\n",
       "      <td>0</td>\n",
       "      <td>1</td>\n",
       "      <td>0</td>\n",
       "      <td>1</td>\n",
       "      <td>0</td>\n",
       "      <td>0</td>\n",
       "      <td>0</td>\n",
       "    </tr>\n",
       "    <tr>\n",
       "      <th>3</th>\n",
       "      <td>1</td>\n",
       "      <td>1</td>\n",
       "      <td>0</td>\n",
       "      <td>0</td>\n",
       "      <td>2583</td>\n",
       "      <td>2358.0</td>\n",
       "      <td>120.0</td>\n",
       "      <td>360.0</td>\n",
       "      <td>1.0</td>\n",
       "      <td>1</td>\n",
       "      <td>0</td>\n",
       "      <td>0</td>\n",
       "      <td>1</td>\n",
       "      <td>0</td>\n",
       "      <td>1</td>\n",
       "      <td>0</td>\n",
       "      <td>0</td>\n",
       "      <td>0</td>\n",
       "    </tr>\n",
       "    <tr>\n",
       "      <th>4</th>\n",
       "      <td>1</td>\n",
       "      <td>0</td>\n",
       "      <td>1</td>\n",
       "      <td>0</td>\n",
       "      <td>6000</td>\n",
       "      <td>0.0</td>\n",
       "      <td>141.0</td>\n",
       "      <td>360.0</td>\n",
       "      <td>1.0</td>\n",
       "      <td>1</td>\n",
       "      <td>0</td>\n",
       "      <td>0</td>\n",
       "      <td>1</td>\n",
       "      <td>0</td>\n",
       "      <td>1</td>\n",
       "      <td>0</td>\n",
       "      <td>0</td>\n",
       "      <td>0</td>\n",
       "    </tr>\n",
       "  </tbody>\n",
       "</table>\n",
       "</div>"
      ],
      "text/plain": [
       "   Gender  Married  Education  Self_Employed  ApplicantIncome  \\\n",
       "0       1        0          1              0             5849   \n",
       "1       1        1          1              0             4583   \n",
       "2       1        1          1              1             3000   \n",
       "3       1        1          0              0             2583   \n",
       "4       1        0          1              0             6000   \n",
       "\n",
       "   CoapplicantIncome  LoanAmount  Loan_Amount_Term  Credit_History  \\\n",
       "0                0.0         0.0             360.0             1.0   \n",
       "1             1508.0       128.0             360.0             1.0   \n",
       "2                0.0        66.0             360.0             1.0   \n",
       "3             2358.0       120.0             360.0             1.0   \n",
       "4                0.0       141.0             360.0             1.0   \n",
       "\n",
       "   Loan_Status  Property_Area_Rural  Property_Area_Semiurban  \\\n",
       "0            1                    0                        0   \n",
       "1            0                    1                        0   \n",
       "2            1                    0                        0   \n",
       "3            1                    0                        0   \n",
       "4            1                    0                        0   \n",
       "\n",
       "   Property_Area_Urban  Dependents_0  Dependents_0  Dependents_1  \\\n",
       "0                    1             0             1             0   \n",
       "1                    0             0             0             1   \n",
       "2                    1             0             1             0   \n",
       "3                    1             0             1             0   \n",
       "4                    1             0             1             0   \n",
       "\n",
       "   Dependents_2  Dependents_3+  \n",
       "0             0              0  \n",
       "1             0              0  \n",
       "2             0              0  \n",
       "3             0              0  \n",
       "4             0              0  "
      ]
     },
     "execution_count": 283,
     "metadata": {},
     "output_type": "execute_result"
    }
   ],
   "source": [
    "train.head()"
   ]
  },
  {
   "cell_type": "code",
   "execution_count": 299,
   "id": "642eb657",
   "metadata": {},
   "outputs": [],
   "source": [
    "# define X & y\n",
    "X = train.drop(columns='Loan_Status')\n",
    "y = train['Loan_Status']"
   ]
  },
  {
   "cell_type": "code",
   "execution_count": 300,
   "id": "94d7ba26",
   "metadata": {},
   "outputs": [],
   "source": [
    "# scaling\n",
    "X_std = RobustScaler().fit_transform(X)"
   ]
  },
  {
   "cell_type": "code",
   "execution_count": 301,
   "id": "31e9eba2",
   "metadata": {},
   "outputs": [],
   "source": [
    "# split\n",
    "X_train, X_test, y_train, y_test = train_test_split(X_std,y,test_size=0.3)"
   ]
  },
  {
   "cell_type": "code",
   "execution_count": 302,
   "id": "e20d38b8",
   "metadata": {},
   "outputs": [],
   "source": [
    "# smote\n",
    "smt = SMOTEENN(random_state=42)\n",
    "\n",
    "X_train_smt, y_train_smt = smt.fit_resample(X_train, y_train)\n",
    "\n",
    "# concat in new dataframe\n",
    "df_smt = pd.concat([pd.DataFrame(y_train_smt), pd.DataFrame(X_train_smt)], axis=1)"
   ]
  },
  {
   "cell_type": "code",
   "execution_count": 303,
   "id": "5f0ca593",
   "metadata": {},
   "outputs": [
    {
     "data": {
      "text/plain": [
       "0    167\n",
       "1    124\n",
       "Name: Loan_Status, dtype: int64"
      ]
     },
     "execution_count": 303,
     "metadata": {},
     "output_type": "execute_result"
    }
   ],
   "source": [
    "# value count after SMOTE\n",
    "df_smt['Loan_Status'].value_counts()"
   ]
  },
  {
   "cell_type": "code",
   "execution_count": 304,
   "id": "132aea0b",
   "metadata": {},
   "outputs": [
    {
     "data": {
      "text/plain": [
       "<AxesSubplot:xlabel='Loan_Status', ylabel='count'>"
      ]
     },
     "execution_count": 304,
     "metadata": {},
     "output_type": "execute_result"
    },
    {
     "data": {
      "image/png": "[encoded data removed]",
      "text/plain": [
       "<Figure size 432x288 with 1 Axes>"
      ]
     },
     "metadata": {
      "needs_background": "light"
     },
     "output_type": "display_data"
    }
   ],
   "source": [
    "# countplot after SMOTE\n",
    "sns.countplot(df_smt['Loan_Status'], label='Count') "
   ]
  },
  {
   "cell_type": "markdown",
   "id": "f73fdd48",
   "metadata": {},
   "source": [
    "# 🎯 Model"
   ]
  },
  {
   "cell_type": "code",
   "execution_count": 305,
   "id": "e59c99f1",
   "metadata": {},
   "outputs": [
    {
     "data": {
      "application/vnd.jupyter.widget-view+json": {
       "model_id": "",
       "version_major": 2,
       "version_minor": 0
      },
      "text/plain": [
       "Optimization Progress:   0%|          | 0/300 [00:00<?, ?pipeline/s]"
      ]
     },
     "metadata": {},
     "output_type": "display_data"
    },
    {
     "name": "stdout",
     "output_type": "stream",
     "text": [
      "\n",
      "Generation 1 - Current best internal CV score: 0.9177089421390999\n",
      "\n",
      "Generation 2 - Current best internal CV score: 0.9381063705435417\n",
      "\n",
      "Generation 3 - Current best internal CV score: 0.945061367621274\n",
      "\n",
      "Generation 4 - Current best internal CV score: 0.9450613676212741\n",
      "\n",
      "Generation 5 - Current best internal CV score: 0.9484511981297488\n",
      "\n",
      "Best pipeline: KNeighborsClassifier(input_matrix, n_neighbors=3, p=1, weights=distance)\n",
      "0.6432432432432432\n"
     ]
    }
   ],
   "source": [
    "# TPOT setup\n",
    "GENERATIONS = 5\n",
    "POP_SIZE = 50\n",
    "\n",
    "tpot = TPOTClassifier(\n",
    "    generations=GENERATIONS,\n",
    "    population_size=POP_SIZE,\n",
    "    verbosity=2,\n",
    ")\n",
    "\n",
    "tpot.fit(X_train_smt, y_train_smt)\n",
    "\n",
    "preds = tpot.predict(X_test)\n",
    "print(accuracy_score(y_test, preds))"
   ]
  },
  {
   "cell_type": "code",
   "execution_count": 306,
   "id": "d1fb48d9",
   "metadata": {},
   "outputs": [
    {
     "name": "stdout",
     "output_type": "stream",
     "text": [
      "Classification report:\n",
      "\n",
      "               precision    recall  f1-score   support\n",
      "\n",
      "           0       0.47      0.67      0.55        61\n",
      "           1       0.80      0.63      0.70       124\n",
      "\n",
      "    accuracy                           0.64       185\n",
      "   macro avg       0.63      0.65      0.63       185\n",
      "weighted avg       0.69      0.64      0.65       185\n",
      "\n",
      "Confusion Matrix\n",
      " [[41 20]\n",
      " [46 78]]\n",
      "\n",
      "Accuracy\n",
      " 0.6432432432432432\n"
     ]
    }
   ],
   "source": [
    "# score (precision, accuracy, recall, F1)\n",
    "class_report = classification_report(y_test, preds)\n",
    "conf_matrix = confusion_matrix(y_test,preds)\n",
    "acc = accuracy_score(y_test,preds)\n",
    "\n",
    "print(\"Classification report:\\n\\n\", class_report)\n",
    "print(\"Confusion Matrix\\n\",conf_matrix)\n",
    "print(\"\\nAccuracy\\n\",acc)"
   ]
  },
  {
   "cell_type": "code",
   "execution_count": 312,
   "id": "ae7e2f92",
   "metadata": {},
   "outputs": [
    {
     "data": {
      "text/plain": [
       "<AxesSubplot:>"
      ]
     },
     "execution_count": 312,
     "metadata": {},
     "output_type": "execute_result"
    },
    {
     "data": {
      "image/png": "[encoded data removed]",
      "text/plain": [
       "<Figure size 432x288 with 2 Axes>"
      ]
     },
     "metadata": {
      "needs_background": "light"
     },
     "output_type": "display_data"
    }
   ],
   "source": [
    "group_names = [\"True Neg\", \"False Pos\", \"False Neg\", \"True Pos\"]\n",
    "group_counts = [\"{0:0.0f}\".format(value) for value in conf_matrix.flatten()]\n",
    "group_percentages = [\"{0:.2%}\".format(value) for value in conf_matrix.flatten()/np.sum(conf_matrix)]\n",
    "labels = [f\"{v1}\\n{v2}\\n{v3}\" for v1, v2, v3 in zip(group_names,group_counts,group_percentages)]\n",
    "labels = np.asarray(labels).reshape(2,2)\n",
    "sns.heatmap(conf_matrix, annot=labels, fmt='', cmap='Blues')"
   ]
  },
  {
   "cell_type": "markdown",
   "id": "4f89485f",
   "metadata": {},
   "source": [
    "**Résultats**\n",
    "- En utilisant TPOT pour trouver le meilleur modèle, j'obtiens une accuracy de 0.64\n",
    "- Modèle : KNeighborsClassifier avec un n_neighbors=3\n",
    "- Score : En recall, 0.67 sur le 0 (donc No sur l'attribuation du prêt) et 0.63 sur le 1 (donc Yes sur l'attribution du prêt).\n",
    "- Matrice de confusion : 11% de faux positif / 25% de faux négatif\n"
   ]
  }
 ],
 "metadata": {
  "kernelspec": {
   "display_name": "Python 3 (ipykernel)",
   "language": "python",
   "name": "python3"
  },
  "language_info": {
   "codemirror_mode": {
    "name": "ipython",
    "version": 3
   },
   "file_extension": ".py",
   "mimetype": "text/x-python",
   "name": "python",
   "nbconvert_exporter": "python",
   "pygments_lexer": "ipython3",
   "version": "3.9.7"
  }
 },
 "nbformat": 4,
 "nbformat_minor": 5
}
